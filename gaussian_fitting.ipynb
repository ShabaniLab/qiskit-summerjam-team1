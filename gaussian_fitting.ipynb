{
 "cells": [
  {
   "cell_type": "code",
   "execution_count": 8,
   "metadata": {},
   "outputs": [
    {
     "name": "stdout",
     "output_type": "stream",
     "text": [
      "[672.41117844   8.05311456   2.42740375] [[ 1.49177368e+01 -1.14116724e-05 -3.59306912e-02]\n",
      " [-1.14116724e-05  2.59155276e-04  9.13015191e-08]\n",
      " [-3.59306912e-02  9.13015191e-08  2.59450450e-04]]\n"
     ]
    }
   ],
   "source": [
    "%matplotlib inline\n",
    "\n",
    "import matplotlib.pyplot as plt\n",
    "import numpy as np\n",
    "from scipy.optimize import curve_fit\n",
    "\n",
    "def gaussian(x,a,b,c):\n",
    "    return a*np.exp(-(x-b)**2/(2*c**2))\n",
    "\n",
    "def fit_gaussian(counts):\n",
    "    x = np.arange(len(counts))\n",
    "    return curve_fit(gaussian,x,counts)\n",
    "\n",
    "test_data = {'0000': 9, '0001': 11, '0010': 34, '0011': 79, '0100': 173, '0101': 313, '0110': 455, '0111': 611, '1000': 676, '1001': 625, '1010': 492, '1011': 318, '1100': 179, '1101': 79, '1110': 26, '1111': 16}\n",
    "labels, counts = zip(*sorted(test_data.items()))\n",
    "\n",
    "\n",
    "popt, pcov = fit_gaussian(counts)\n",
    "\n",
    "plt.bar(labels,counts)\n",
    "\n",
    "x = np.aran\n"
   ]
  },
  {
   "cell_type": "code",
   "execution_count": null,
   "metadata": {},
   "outputs": [],
   "source": []
  }
 ],
 "metadata": {
  "kernelspec": {
   "display_name": "Python 3",
   "language": "python",
   "name": "python3"
  },
  "language_info": {
   "codemirror_mode": {
    "name": "ipython",
    "version": 3
   },
   "file_extension": ".py",
   "mimetype": "text/x-python",
   "name": "python",
   "nbconvert_exporter": "python",
   "pygments_lexer": "ipython3",
   "version": "3.8.2"
  }
 },
 "nbformat": 4,
 "nbformat_minor": 4
}
